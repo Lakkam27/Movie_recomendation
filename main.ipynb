{
 "cells": [
  {
   "cell_type": "code",
   "metadata": {
    "ExecuteTime": {
     "end_time": "2025-06-20T04:34:58.331346Z",
     "start_time": "2025-06-20T04:34:54.110374Z"
    }
   },
   "source": [
    "import numpy as np\n",
    "import pandas as pd\n",
    "import ast\n"
   ],
   "outputs": [],
   "execution_count": 1
  },
  {
   "cell_type": "code",
   "metadata": {
    "ExecuteTime": {
     "end_time": "2025-06-20T04:34:59.788692Z",
     "start_time": "2025-06-20T04:34:58.451036Z"
    }
   },
   "source": [
    "movies = pd.read_csv('tmdb_5000_movies.csv')\n",
    "credits = pd.read_csv('tmdb_5000_credits.csv')\n",
    "\n",
    "# print(credits['crew'])\n",
    "movies= movies.merge(credits,on='title')\n",
    "movies = movies[['movie_id','title','overview','genres','keywords','cast','crew']]\n",
    "\n",
    "# print(movies.isnull().sum())\n",
    "# print(movies.duplicated().sum())\n",
    "# print(movies.iloc[0].genres)\n",
    "\n",
    "import ast\n",
    "\n",
    "def convert(obj):\n",
    "    L = []\n",
    "    for i in ast.literal_eval(obj):\n",
    "        L.append(i['name'])\n",
    "    return L\n"
   ],
   "outputs": [],
   "execution_count": 2
  },
  {
   "cell_type": "code",
   "metadata": {
    "ExecuteTime": {
     "end_time": "2025-06-19T17:10:39.708711Z",
     "start_time": "2025-06-19T17:10:30.618833Z"
    }
   },
   "source": [
    "movies['genres'] = movies['genres'].apply(convert)\n",
    "movies['keywords'] = movies['keywords'].apply(convert)\n",
    "\n",
    "def convert3(text):\n",
    "    L = []\n",
    "    counter = 0\n",
    "    for i in ast.literal_eval(text):\n",
    "        if counter < 4:\n",
    "            L.append(i['name'])\n",
    "        counter+=1\n",
    "    return L\n",
    "movies['cast'] = movies['cast'].apply(convert3)\n",
    "\n",
    "def fetch_director(text):\n",
    "    L = []\n",
    "    for i in ast.literal_eval(text):\n",
    "        if i['job'] == 'Director':\n",
    "            L.append(i['name'])\n",
    "    return L\n",
    "movies['crew']=movies['crew'].apply(fetch_director)\n",
    "movies['overview'] = movies['overview'].apply(lambda x: x.split() if isinstance(x, str) else [])\n",
    "def collapse(L):\n",
    "    L1 = []\n",
    "    for i in L:\n",
    "        L1.append(i.replace(\" \",\"\"))\n",
    "    return L1"
   ],
   "outputs": [],
   "execution_count": 17
  },
  {
   "cell_type": "code",
   "metadata": {
    "ExecuteTime": {
     "end_time": "2025-06-19T17:10:39.973723Z",
     "start_time": "2025-06-19T17:10:39.762186Z"
    }
   },
   "source": [
    "\n",
    "movies['cast'] = movies['cast'].apply(collapse)\n",
    "movies['crew'] = movies['crew'].apply(collapse)\n",
    "movies['genres'] = movies['genres'].apply(collapse)\n",
    "movies['keywords'] = movies['keywords'].apply(collapse)\n",
    "\n",
    "movies['tags'] = movies['overview'] + movies['genres'] + movies['keywords'] + movies['cast'] + movies['crew']\n",
    "new_df=movies[['movie_id','title','tags']]\n",
    "\n",
    "new_df = movies[['movie_id', 'title', 'tags']].copy()\n",
    "new_df['tags'] = new_df['tags'].apply(lambda x: \" \".join(x))\n"
   ],
   "outputs": [],
   "execution_count": 18
  },
  {
   "cell_type": "code",
   "metadata": {
    "ExecuteTime": {
     "end_time": "2025-06-19T17:10:41.073280Z",
     "start_time": "2025-06-19T17:10:40.024689Z"
    }
   },
   "source": [
    "from sklearn.feature_extraction.text import CountVectorizer\n",
    "\n",
    "cv = CountVectorizer(max_features=5000, stop_words='english')\n",
    "vector = cv.fit_transform(new_df['tags']).toarray()\n"
   ],
   "outputs": [],
   "execution_count": 19
  },
  {
   "cell_type": "code",
   "metadata": {
    "ExecuteTime": {
     "end_time": "2025-06-19T17:10:41.227748Z",
     "start_time": "2025-06-19T17:10:41.132537Z"
    }
   },
   "source": [
    "for i in cv.get_feature_names_out():\n",
    " print(i,end=', ')"
   ],
   "outputs": [
    {
     "name": "stdout",
     "output_type": "stream",
     "text": [
      "000, 007, 10, 100, 11, 12, 13, 14, 15, 16, 17, 17th, 18, 18th, 19, 1930s, 1940s, 1950s, 1960s, 1970s, 1980, 1980s, 1985, 1990s, 19th, 19thcentury, 20, 200, 2009, 20th, 24, 25, 30, 300, 3d, 40, 50, 500, 60, 60s, 70, aaron, aaroneckhart, aarontaylor, abandoned, abducted, abigailbreslin, abilities, ability, able, aboard, abuse, abusive, academy, accept, accepted, accepts, access, accident, accidental, accidentally, accompanied, accomplish, account, accountant, accused, ace, achieve, act, acting, action, actionhero, actions, activist, activities, activity, actor, actors, actress, acts, actual, actually, adam, adambrody, adams, adamsandler, adamshankman, adaptation, adapted, addict, addicted, addiction, adolescence, adopt, adopted, adoption, adopts, adrienbrody, adult, adultery, adulthood, adults, advantage, adventure, adventures, advertising, advice, affair, affairs, affection, affections, afghanistan, africa, african, africanamerican, aftercreditsstinger, afterlife, aftermath, age, aged, agedifference, agency, agenda, agent, agents, aggressive, aging, ago, agree, agrees, ahead, aid, aidanquinn, aided, aids, ailing, air, airplane, airplanecrash, airport, aka, al, alabama, alan, alanalda, alanarkin, alaska, albert, albertbrooks, alcatraz, alcohol, alcoholic, alcoholism, alecbaldwin, alex, alexkendrick, alfredhitchcock, alfredmolina, alfrewoodard, ali, alice, alien, alieninvasion, alienlife, aliens, alike, alive, allen, alliance, allied, allies, allow, allows, ally, alongside, alpacino, alter, alternate, alternative, alzheimer, amanda, amandapeet, amandaseyfried, amateur, amazing, ambassador, ambition, ambitious, ambulance, ambush, america, american, americanabroad, americanfootball, americans, amid, amidst, amnesia, amp, amsterdam, amusementpark, amy, amyadams, amysmart, analyst, anarchiccomedy, ancient, ancientrome, ancientworld, anderson, andiemacdowell, andrew, android, andy, andygarcía, andyserkis, angel, angelabassett, angeles, angelinajolie, angels, anger, anglee, angry, animal, animalattack, animalhorror, animals, animated, animation, anjelicahuston, anna, annafaris, annakendrick, annasophiarobb, anne, annehathaway, annemoss, annettebening, annie, anniversary, announces, annual, answer, answers, ant, anthology, anthony, anthonyanderson, anthonyhopkins, anthonymackie, anthropomorphism, anti, antics, antihero, antoinefuqua, antoniobanderas, antonyelchin, apart, apartheid, apartment, ape, apes, apocalypse, apocalyptic, apparent, apparently, appear, appears, apple, appointed, apprentice, approach, approaches, approaching, april, arab, arch, archaeologist, architect, arctic, area, aren, arena, argument, arise, aristocrat, armed, arms, army, arnold, arnoldschwarzenegger, arrangedmarriage, arrest, arrested, arrival, arrive, arrives, arriving, arrogant, art, arthur, artificialintelligence, artist, artistic, artists, arts, ashley, ashleyjudd, ashtonkutcher, asia, aside, ask, asked, asking, asks, aspirations, aspiring, assassin, assassinate, assassination, assassins, assault, assigned, assignment, assistant, assumes, asteroid, astronaut, astronauts, asylum, athlete, atomicbomb, attack, attacked, attacks, attempt, attempting, attempts, attending, attends, attention, attitude, attorney, attracted, attraction, attractive, audience, audiences, audition, august, aunt, austin, australia, australian, author, authorities, authority, autism, auto, avenge, average, avoid, awaits, awakens, award, away, awry, ax, babe, baby, bachelor, backdrop, background, backgrounds, bad, bag, bahamas, bail, balance, ball, ballet, baltimore, band, bandits, bangkok, banished, bank, banker, bankrobber, bankrobbery, bar, barely, bargained, barn, barney, barry, barrylevinson, bars, base, baseball, based, basedoncomicbook, basedongraphicnovel, basedonnovel, basedonplay, basedonstagemusical, basedontrueevents, basedontruestory, basedontvseries, basedonvideogame, basedonyoungadultnovel, basement, basketball, batman, battle, battlefield, battles, battling, bay, beach, bear, bears, beast, beasts, beat, beating, beautiful, beautifulwoman, beauty, becky, becominganadult, bed, bedroom, beer, befriends, began, begin, beginning, begins, behavior, beings, beliefs, believe, believed, believes, believing, bell, beloved, ben, benaffleck, beneath, benfoster, beniciodeltoro, benjamin, benjaminbratt, benkingsley, bennett, benstiller, bent, berlin, berniemac, best, bestfriend, bet, beth, betrayal, betrayed, bettemidler, better, betty, beverly, bible, big, bigger, biggest, biker, bikini, billhader, billionaire, billmurray, billnighy, billpaxton, billpullman, billy, billybobthornton, billycrudup, billycrystal, biography, bird, birth, birthday, bisexual, bishop, bit, bite, bitter, bizarre, black, blackmagic, blackmail, blackpeople, blacksmith, blade, blame, blind, bliss, block, blonde, blood, bloodsplatter, bloodthirsty, bloody, blow, blue, board, boarding, boardingschool, boat, bob, bobby, bobbyfarrelly, bobhoskins, bodies, body, bodyguard, bold, bollywood, bomb, bombing, bond, bonds, bone, bonniehunt, book, books, border, bored, boredom, boring, born, boss, boston, botched, bound, boundaries, bounty, bountyhunter, box, boxer, boxing, boy, boyfriend, boys, bradleycooper, bradpitt, brain, brand, brave, bravery, brazil, brazilian, break, breakdown, breaking, breaks, breckinmeyer, brendanfraser, brendangleeson, brent, brettratner, brian, briancox, briandepalma, bride, bridesmaid, bridge, brief, brien, bright, brilliant, bring, bringing, brings, brink, britain, british, britishsecretservice, brittanymurphy, broadway, broke, broken, broker, brooklyn, brooks, brothel, brother, brotherbrotherrelationship, brothers, brothersisterrelationship, brought, brown, bruce, brucedern, brucegreenwood, brucewillis, brutal, brutality, brutally, bryansinger, buck, buddies, buddy, buddycomedy, budget, build, building, built, bully, bullying, bumbling, bunny, burglar, buried, bus, bush, business, businessman, bust, busy, butler, buy, cabin, caesar, cage, cairo, cal, california, called, calling, calls, calvin, camcorder, came, camera, cameraman, cameras, camerondiaz, camgigandet, camp, campaign, campbell, camping, campus, canada, canadian, cancer, candidate, candy, cannibal, capable, capital, capitalism, capt, captain, captive, capture, captured, captures, car, caraccident, carchase, carcrash, card, care, career, carefree, caretaker, careymulligan, caribbean, carjourney, carl, carlagugino, carmen, carol, carolina, carrace, carrie, carry, carrying, cars, cartel, carter, cartoon, caryelwes, case, caseyaffleck, cash, casino, cast, castle, cat, cataclysm, catastrophe, catch, catches, cateblanchett, catherinekeener, catherineo, catherinezeta, catholic, catholicism, cattle, caught, cause, caused, causes, causing, cavalry, cave, cedrictheentertainer, celebrate, celebrated, celebration, celebrity, cellphone, cemetery, center, centered, centers, central, centuries, century, ceremony, certain, chad, chain, chainsaw, challenge, challenged, challenges, champion, championship, chance, change, changed, changes, changing, channingtatum, chaos, chaotic, chapter, character, characters, charge, charged, charismatic, charles, charless, charlie, charliesheen, charlizetheron, charlotte, charm, charming, chase, chased, chauffeur, chazzpalminteri, cheating, cheerleader, chef, chemical, cher, chicago, chicken, chief, child, childabuse, childhero, childhood, children, chilling, china, chinese, chip, chiwetelejiofor, chloëgracemoretz, chloësevigny, chocolate, choice, choices, choose, chosen, chowyun, chris, chriscolumbus, chriscooper, chrisevans, chrishemsworth, chrisklein, chrispine, chrisrock, christ, christian, christianbale, christianity, christianslater, christinaapplegate, christinaricci, christine, christmas, christmasparty, christopher, christopherlloyd, christophernolan, christopherplummer, christopherwalken, christophwaltz, chronicle, chronicles, chuck, church, cia, ciaránhinds, cigarettesmoking, cillianmurphy, cinema, circle, circuit, circumstances, circus, cities, citizens, city, civil, civilization, civilwar, claim, claims, claire, clairedanes, claireforlani, clan, clark, clash, class, classes, classic, classmate, classmates, classroom, claudevandamme, clay, clean, clear, clerk, client, clients, climate, climbing, clinteastwood, cliveowen, clock, clone, cloning, close, closer, club, clubs, clues, clutches, coach, coast, cocaine, code, cody, coffin, cohen, col, cold, coldwar, cole, colehauser, colin, colinfarrell, colinfirth, collapse, colleague, colleagues, collect, collection, collector, college, collide, collision, colonel, colony, color, colorado, colorful, coma, combat, combination, combined, come, comeback, comedian, comedic, comedy, comes, comet, comfort, comic, comics, coming, comingofage, comingout, command, commander, commercial, commit, commitment, committed, common, communication, communist, community, companion, company, compete, competing, competition, complete, completely, complex, complicated, complications, composer, computer, computervirus, conan, concert, conclusion, condition, confession, confidence, confident, conflict, confront, confronted, confused, congress, conman, connected, connection, connell, connienielsen, connor, conquer, conscience, consequences, conservative, considered, conspiracy, constant, constantly, construction, contact, contain, contemporary, contend, contest, continue, continues, continuing, contract, control, controlled, controlling, controversial, convention, converge, convict, convicted, convince, convinced, convinces, cook, cooking, cool, cooper, cop, cope, cops, core, corner, corners, corporate, corporation, corpse, corrupt, corruption, cost, costume, couldn, count, country, countrymusic, countryside, county, coup, couple, couples, courage, courageous, course, court, courtcase, courteneycox, courtroom, cousin, cover, covert, cow, cowardliness, cowboy, crab, crack, craig, crash, crashes, crazy, create, created, creates, creation, creator, creature, creatures, crew, crime, crimefighter, crimes, criminal, criminals, crisis, critical, crocodile, crook, crooked, cross, crossed, crosses, crown, crucifixion, cruel, cruelty, cruise, crush, crystal, cuba, cubagoodingjr, cult, cultfilm, cultural, culture, cultureclash, cunning, cup, cure, curiosity, curious, current, curse, cursed, curtishanson, custody, customers, cut, cuttingthecord, cyberpunk, cyborg, dad, daily, dakotafanning, damage, dan, danaykroyd, dance, dancer, dancing, danger, dangerous, dangers, daniel, danielcraig, danielday, danielradcliffe, danny, dannyboyle, dannydevito, dannyglover, dannyhuston, dare, daring, dark, darkcomedy, darkest, darkness, darylhannah, date, dates, dating, daughter, daughters, dave, david, davidarquette, davidduchovny, davidfincher, davidgordongreen, davidkoechner, davidmorse, davido, davidspade, davidstrathairn, davidthewlis, davis, daxshepard, day, days, dc, dccomics, dea, dead, deadly, deaf, deal, dealer, dealers, dealing, deals, dean, death, deathofafriend, deathpenalty, deaths, debt, debut, decade, decades, decapitation, deceased, deceit, deception, decide, decided, decides, decision, decisions, dedicated, deeds, deep, deeper, deeply, defeat, defend, defense, deliver, delivers, delroylindo, delusion, demanding, demands, demimoore, demon, demonic, demonicpossession, demons, deniserichards, denisleary, dennisdugan, dennishopper, dennisquaid, dentist, denzelwashington, department, depressed, depression, deputy, deranged, derek, dermotmulroney, descend, desert, deserted, designed, desire, desires, desolate, despair, desperate, desperately, desperation, despite, destined, destiny, destroy, destroyed, destroying, destruction, details, detective, detectives, detention, determination, determine, determined, detroit, devastating, develop, developed, develops, device, devil, devious, devoted, diabolical, diagnosed, dialogue, diamond, diane, dianekeaton, dianekruger, dianelane, diannewiest, diary, dick, dictator, did, didn, die, died, diego, dies, differences, different, difficult, digging, dignity, diner, dinner, dinosaur, dinosaurs, dire, directed, direction, director, dirt, dirty, dirtycop, disabled, disappearance, disappeared, disappears, disaster, disastrous, discover, discovered, discovering, discovers, discovery, disease, disfigurement, disgraced, disguise, dishonesty, disillusioned, disney, disorder, dispatched, distant, district, distrust, disturbed, disturbing, diva, divided, division, divorce, divorced, djimonhounsou, dna, doc, doctor, document, documentary, documents, does, doesn, dog, dogs, doing, doll, dollar, dollars, dolphin, dolphlundgren, domination, don, donaldpetrie, donaldsutherland, doncheadle, donnell, doomed, door, dorothy, double, doublelife, doubt, doubts, doug, douglas, dr, dracula, drag, dragon, drama, dramatic, draw, drawing, drawn, draws, dream, dreams, drew, drewbarrymore, drifter, drink, drinking, drive, driven, driver, drives, driving, drop, drowning, drug, drugabuse, drugaddiction, drugdealer, druglord, drugs, drugtraffic, drunk, drunken, du, dualidentity, dude, duel, duke, dumped, duo, duringcreditsstinger, dustinhoffman, dutch, dutton, duty, dwarves, dwaynejohnson, dying, dyinganddeath, dylan, dynamic, dynasty, dysfunctional, dysfunctionalfamily, dystopia, dystopicfuture, eager, earlier, early, earn, earth, earthquake, east, easy, eating, eccentric, economic, economy, eddie, eddiegriffin, eddiemurphy, edge, edharris, editor, education, edward, edwardburns, edwardnorton, effort, efforts, egg, ego, egypt, egyptian, el, elaborate, elderly, election, elements, eliaskoteas, elijahwood, eliminate, elisabethshue, elite, elizabeth, elizabethbanks, ella, ellenburstyn, ellenpage, ellie, elliot, ellis, elusive, elves, elvis, embark, embarking, embarks, embassy, embroiled, emerge, emergency, emerges, emilehirsch, emily, emilyblunt, emilymortimer, emilywatson, emma, emmaroberts, emmastone, emmathompson, emmawatson, emotional, emotionally, emotions, emperor, empire, employee, employees, employer, employs, encounter, encounters, end, ended, ending, endless, endoftheworld, ends, enemies, enemy, energy, enforcement, engaged, engagement, engineer, england, english, enigmatic, enjoy, enlist, enlists, enormous, ensemblecast, ensues, entangled, enter, enterprise, enters, entertainer, entertaining, entire, entirely, entity, environment, environmental, epic, epidemic, era, eric, ericbana, ericroberts, erin, ernest, eroticism, erupts, escapade, escape, escaped, escapes, escaping, escort, especially, espionage, establishment, estate, estranged, eternal, ethan, ethancoen, ethanhawke, eugenelevy, europe, european, eva, evacuation, evamendes, evanrachelwood, eve, evening, event, events, eventually, everybody, everyday, evidence, evil, evolution, ewanmcgregor, ex, exact, exactly, examines, exchange, exciting, execution, executive, exercise, exist, existed, existence, existentialism, exists, exorcism, exotic, exoticisland, expectations, expected, expects, expedition, experience, experienced, experiences, experiencing, experiment, expert, explorers, explores, exploring, explosion, explosive, expose, exposed, exposes, extra, extramaritalaffair, extraordinary, extraterrestrial, extraterrestrialtechnology, extreme, extremely, extremeviolence, eye, eyes, face, faced, faces, facility, facing, fact, factions, factory, fail, failed, failing, fails, fairy, fairytale, faith, fake, fall, fallen, falling, fallinginlove, falls, falseidentity, falselyaccused, fame, famed, families, family, familyconflict, familyrelationships, famkejanssen, famous, fan, fangvamp, fans, fantasies, fantastic, fantasy, fantasyworld, far, farewell, farm, farmer, farmhouse, fascinated, fashion, fast, faster, fat, fatal, fate, fateful, father, fatherdaughterrelationship, fathersonrelationship, favorite, fbi, fbiagent, fear, fears, fearsome, feature, features, featuring, federation, feel, feeling, feelings, feels, feet, fellow, female, femalefriendship, femalenudity, femaleprotagonist, festival, feud, fi, fiancee, fiancé, fiancée, fiction, fictional, fictionalplace, field, fields, fierce, fifth, fight, fighter, fighters, fighting, fights, figure, figures, filled, film, filmdirector, filmed, filming, filmmaker, filmmakers, filmmaking, filmproducer, films, final, finale, finally, financial, finding, finds, fine, finish, finn, fired, firm, fish, fisherman, fishing, fishoutofwater, fistfight, fit, fix, flame, flashback, flee, flees, flesh, flight, fling, flint, flirt, flood, florida, flower, fly, flying, flyingsaucer, focus, focused, focuses, foil, foley, folk, follow, followed, following, follows, food, foot, footage, football, footchase, forbidden, forbiddenlove, force, forced, forces, forcing, ford, foreign, forest, forestwhitaker, forever, forget, forgiveness, form, formidable, forms, formula, fort, fortune, fortuneteller, forward, foster, fought, foundfootage, fourth, fox, framed, france, francesmcdormand, franchise, francis, francisco, francisfordcoppola, frank, frankenstein, frankie, frankoz, fraternity, fraud, freak, fred, freddieprinzejr, freddy, free, freedom, french, fresh, freshman, friend, friendly, friends, friendship, frightening, frog, frontier, frozen, frustrated, fu, fugitive, fulfill, fully, fun, fund, funeral, funny, furious, future, futuristic, gabrielbyrne, gaelgarcíabernal, gain, galaxy, gambler, gambling, game, games, gandhi, gang, gangs, gangster, gangsters, garage, garden, garrymarshall, gary, garygray, garyoldman, garysinise, gas, gasstation, gather, gave, gay, gayinterest, gayrelationship, genehackman, general, generation, generations, genetic, genetically, genetics, genius, gentle, geoffreyrush, george, georgeclooney, georgemiller, georgew, georgia, gerardbutler, german, germans, germany, getaway, gets, getting, ghetto, ghost, ghosts, giant, giants, gift, gifted, gig, giovanniribisi, girl, girlfriend, girlfriends, girls, given, gives, giving, gladiator, glamorous, glass, glennclose, global, globe, glory, goal, god, gods, goes, going, gold, golden, golf, gone, good, goodvsevil, goranvisnjic, gordon, gore, gorgeous, gorilla, gossip, got, gotham, gothamcity, government, governor, grace, grade, gradually, graduate, graduation, grand, grandfather, grandmother, granny, grant, graphic, grave, great, greater, greatest, greece, greed, greedy, greek, green, greg, gregkinnear, gregorypeck, grew, grief, grieving, griffin, grim, grisly, gritty, ground, group, groupoffriends, grow, growing, growingup, grown, grows, gruesome, guard, guardian, guerrilla, guest, guests, guide, guilt, guilty, guitar, gun, gunfight, gunman, guns, gunslinger, guru, gusvansant, guy, guypearce, guys, gwynethpaltrow, hacker, hair, haleyjoelosment, half, hall, halleberry, halloween, hallucination, hand, handed, hands, handsome, handtohandcombat, hang, hanging, hangs, hankazaria, hannah, happen, happened, happening, happens, happily, happiness, happy, hara, harbor, hard, harlem, harmony, harold, haroldramis, harrisonford, harry, harsh, hart, harvard, harvey, harveykeitel, hasn, hatches, hate, hatred, haunt, haunted, hauntedhouse, haunting, haven, having, havoc, hawaii, haydenchristensen, haydenpanettiere, head, headed, heading, headquarters, heads, healing, health, hear, hearing, hears, heart, heartbreak, hearted, hearts, heather, heathledger, heaven, heavily, heavy, heavymetal, heir, heiress, heist, held, helen, helenabonhamcarter, helenhunt, helenmirren, helicopter, hell, help, helped, helping, helps, henchmen, henry, hero, heroes, heroic, heroin, heroism, hidden, hide, hiding, high, highest, highlands, highly, highschool, highschoolsports, highschoolstudent, highway, hijack, hijacking, hilarious, hilaryduff, hilaryswank, hill, hills, himalaya, hip, hippie, hire, hired, hires, historic, historical, historicalfigure, history, hit, hitchhiker, hitman, hits, ho, hockey, hold, holding, holds, hole, holiday, hollyhunter, hollywood, home, homeinvasion, homeland, homeless, homelessperson, hometown, homicidal, homicide, homosexuality, honey, honeymoon, hong, hongkong, honor, hood, hoodlum, hook, hop, hope, hopedavis, hopelessly, hopes, hoping, hopper, horrible, horrific, horrifying, horror, horrors, horse, hospital, host, hostage, hostile, hostility, hot, hotel, hotelroom, hour, hours, house, housekeeper, housewife, housing, howard, huge, hughgrant, hughjackman, hugoweaving, human, humananimalrelationship, humanity, humankind, humans, humiliation, humor, hundreds, hunger, hungry, hunt, hunted, hunter, hunters, hunting, hurricane, husband, hustler, hypnosis, hyun, ianholm, ianmckellen, ice, icecube, iconic, idea, idealistic, identities, identity, idol, idriselba, idyllic, ignoring, ii, iii, il, ill, illegal, illegalimmigration, illegalprostitution, illness, image, imaginary, imagination, imagined, imax, immediately, immigrant, immigrants, immigration, immortal, immortality, impact, imperial, important, impossible, imprisoned, imprisonment, inadvertently, incest, incident, include, includes, including, increasingly, incredible, independence, independent, independentfilm, india, indian, indiana, indianlead, indians, individual, industry, infamous, infant, infected, infection, infidelity, infiltrate, influence, informant, information, inhabitants, inheritance, inherited, inherits, initially, injured, injury, injustice, inmates, inner, innocence, innocent, insane, insanity, inside, insists, insomnia, inspector, inspiration, inspired, inspires, inspiring, installment, instant, instantly, instead, institution, instructor, insurance, intelligence, intelligent, intends, intense, intent, intentions, intergalactic, international, internet, interrogation, interspeciesromance, intertwine, interview, interviews, intimate, intrigue, introduces, invaders, invading, invasion, invention, inventor, investigate, investigates, investigating, investigation, investigator, investment, invisible, invites, involved, involves, involving, iowa, ira, iran, iranian, iraq, ireland, irish, island, isn, isolated, isolation, israel, israeli, issues, italian, italy, ivanreitman, jack, jackblack, jackie, jackiechan, jacknicholson, jackson, jadapinkettsmith, jail, jake, jakegyllenhaal, james, jamescaan, jamescromwell, jamesfranco, jamesgandolfini, jamesmangold, jamesmarsden, jamesmcavoy, jamesremar, jameswoods, jamie, jamiefoxx, jamieleecurtis, jane, japan, japanese, jaredleto, jason, jasonbateman, jasonbiggs, jasonisaacs, jasonlee, jasonrobards, jasonschwartzman, jasonsegel, jasonstatham, jasonsudeikis, javierbardem, jay, jayroach, jazz, jealous, jealousy, jean, jeanreno, jedi, jeff, jeffbridges, jeffdaniels, jeffgoldblum, jeffreywright, jenamalone, jennifer, jenniferaniston, jenniferconnelly, jennifergarner, jenniferjasonleigh, jenniferlawrence, jenniferlopez, jenniferlovehewitt, jeremyirons, jeremyrenner, jerry, jersey, jerusalem, jess, jesse, jessebradford, jesseeisenberg, jessica, jessicaalba, jessicabiel, jessicachastain, jesus, jesuschrist, jetli, jew, jewel, jewish, jigsaw, jill, jim, jimbroadbent, jimcarrey, jimcaviezel, jimmy, jin, joanallen, joancusack, joaquinphoenix, job, jobs, jodiefoster, joe, joel, joelcoen, joeledgerton, joelschumacher, joepesci, joey, john, johnc, johncarpenter, johncusack, johngoodman, johnheard, johnhurt, johnkrasinski, johnleguizamo, johnlithgow, johnmalkovich, johnmctiernan, johnny, johnnydepp, johnnyknoxville, johnsingleton, johnson, johntravolta, johnturturro, johnwoo, join, joined, joining, joins, jon, jonahhill, jonathan, jonathanfrakes, jonathanrhysmeyers, jones, jonfavreau, jonvoight, jordan, joseph, josephfiennes, josephgordon, josh, joshbrolin, joshhartnett, joshhutcherson, joshlucas, journalism, journalist, journey, journeys, joy, jr, judelaw, judge, judidench, judygreer, julia, julian, juliannemoore, juliaroberts, juliastiles, julie, julieandrews, juliettelewis, july, jump, jungle, junior, junkie, jury, just, justice, justinlong, justintimberlake, kansas, karate, karen, karlurban, kat, kate, katebeckinsale, katebosworth, katehudson, katemara, katewinslet, katherine, katherineheigl, kathleenturner, kathy, kathybates, katie, katieholmes, katniss, kay, keanureeves, keeping, keeps, keiraknightley, kelly, kellypreston, ken, kennedy, kennethbranagh, kerrywashington, kevin, kevinbacon, kevincostner, kevinhart, kevinjames, kevinkline, kevinpollak, kevinsmith, kevinspacey, key, kgb, khan, kid, kidnap, kidnapped, kidnappers, kidnapping, kidnaps, kids, kidsandfamily, kiefersutherland, kill, killed, killer, killerrobot, killers, killing, kills, kim, kimbasinger, kimcattrall, kind, king, kingdom, kingpin, kirk, kirstendunst, kiss, kit, kitchen, knew, knife, knight, know, knowing, knowledge, known, knows, kong, korea, korean, kriskristofferson, kristenbell, kristenstewart, kristenwiig, kristinscottthomas, krueger, kung, kungfu, kurt, kurtrussell, kyle, la, lab, labor, laboratory, ladies, lady, ladykiller, laid, lake, land, landing, lands, landscape, lane, language, lapd, large, larger, largest, larry, las, lasergun, lassehallström, lasvegas, late, later, latest, launch, launched, launches, laura, lauradern, lauralinney, laurencefishburne, lavish, law, lawman, lawrence, laws, lawyer, laxative, lazy, lead, leader, leaders, leading, leads, league, learn, learning, learns, leave, leaves, leaving, led, lee, left, legacy, legal, legend, legendary, legends, lenaheadey, leo, leon, leonardnimoy, leonardodicaprio, lesbian, lesbianrelationship, lesliemann, leslienielsen, lesson, lessons, let, lethal, letter, letters, level, levitt, lewis, lgbt, li, liamneeson, liar, liberation, lie, lies, lieutenant, lievschreiber, life, lifeanddeath, lifelong, lifestyle, lifetime, light, lightning, lights, like, likes, lily, limits, lincoln, linda, lindsaylohan, line, lines, link, lion, lisa, lisakudrow, list, literature, little, littleboy, live, lived, lives, living, livtyler, ll, llcoolj, loan, local, locals, location, locked, loganlerman, lola, london, londonengland, lone, loneliness, lonely, loner, long, longer, longtime, look, looking, looks, loose, loosely, lord, los, losangeles, lose, loser, loses, losing, loss, lossofbrother, lossofchild, lossoffamily, lossoffather, lossofhusband, lossoflover, lossofmother, lossofparents, lossofson, lost, lot, lou, louis, louisiana, lounge, love, loveatfirstsight, loved, loveletter, loveofone, lover, lovers, loves, lovesickness, lovetriangle, loving, low, loyal, loyalty, lt, lucas, luck, lucky, lucy, lucyliu, luke, lukewilson, lured, lust, luxury, lying, ma, machine, machinegun, macy, mad, madea, madness, madonna, mafia, magazine, maggie, maggiegyllenhaal, magic, magical, magician, maid, mail, main, maine, maintain, major, make, maker, makes, making, malcolm, male, malefemalerelationship, malefriendship, malenudity, mall, man, manager, manages, mandymoore, manhattan, manhunt, maniac, manipulation, mankind, mannered, mansion, manvsmachine, map, marcforster, march, marciagayharden, marcus, maria, mariabello, marie, marijuana, marine, marisatomei, mark, markduplass, marked, market, markruffalo, markstrong, markwahlberg, marlonbrando, marlonwayans, marriage, marriagecrisis, marriageproposal, married, marriedcouple, marries, marry, marrying, mars, marshal, marshall, martha, martial, martialarts, martin, martincampbell, martinlawrence, martinscorsese, martinsheen, marty, marvelcinematicuniverse, marvelcomic, mary, maryelizabethwinstead, marymccormack, marysteenburgen, mask, masked, mass, massacre, massive, massmurder, master, mastermind, masters, masturbation, match, mates, mathematician, mathematics, matrix, matt, mattdamon, mattdillon, matter, matters, matthew, matthewbroderick, matthewlillard, matthewmcconaughey, maurice, max, maxvonsydow, maya, maybe, mayhem, mayor, maze, mccall, mcclane, mcphee, meagangood, mean, meaning, means, media, medical, medication, medicine, medieval, meet, meeting, meets, mega, meganfox, megryan, mekhiphifer, melbrooks, melgibson, melvin, member, members, memories, memory, men, menace, mental, mentally, mentor, mephisto, mercenaries, mercenary, mere, mermaid, merylstreep, message, messages, met, metal, meteor, methods, mexican, mexicanstandoff, mexico, mia, miami, michael, michaelangarano, michaelbay, michaelcaine, michaelclarkeduncan, michaeldouglas, michaelfassbender, michaelj, michaelkeaton, michaelmadsen, michaelmoore, michaelpeña, michaelrapaport, michaelrooker, michaelshannon, michaelsheen, michellemonaghan, michellepfeiffer, michellerodriguez, michellewilliams, michigan, mickeyrourke, mid, middle, middleeast, midlifecrisis, midst, midwest, mighty, mike, mikeepps, mikemyers, milakunis, mild, miles, milesteller, military, millajovovich, miller, million, millionaire, millions, mind, minds, miner, mining, minions, minister, minnesota, minniedriver, minor, minute, minutes, miracle, miranda, mirandarichardson, mirror, misadventures, mischievous, misfit, misguided, miss, missile, missing, missingperson, mission, missionary, missionofmurder, mississippi, mistaken, mistakenidentity, mistakenly, mistakes, mistress, mitch, mitchell, mix, mixed, mob, mobster, mockumentary, model, modern, mole, molly, mom, moment, moments, money, monica, monk, monkey, monster, monsters, monstrous, montana, month, months, moon, moonlights, moore, moral, morality, morganfreeman, morgue, mormon, morning, morrischestnut, mortal, moscow, moses, motel, mother, motherdaughterrelationship, motherrole, mothersonrelationship, motion, motor, motorcycle, mountain, mountains, mouse, moved, movement, moves, movie, movies, moviestar, moving, mr, mrs, multi, multiple, multiplestorylines, mumblecore, mumblegore, murder, murdered, murderer, murderhunt, murdering, murderous, murders, murphy, museum, music, musical, musicband, musician, musicians, muslim, mutant, mutants, mutation, mutiny, mutual, mysterious, mysteriously, mystery, mystical, mythical, mythology, naive, nam, named, names, nancy, nanny, naomiwatts, narcotics, narration, nasa, nasty, natalie, natalieportman, nathan, nation, national, nations, native, nativeamerican, natural, naturally, nature, navigate, navy, nazi, nazigermany, nazis, neal, near, nearby, nearly, necessary, need, needed, needs, nefarious, neighbor, neighborhood, neighbors, neiljordan, nelson, nemesis, neo, nephew, nerd, nerdy, netherlands, network, neurotic, nevada, nevecampbell, new, newborn, newcomer, newfound, newidentity, newjersey, newlove, newly, newmexico, news, newspaper, newyear, newyork, newyorkcity, nialong, nice, nick, nicknolte, nicolascage, nicolekidman, niece, night, nightclub, nightmare, nightmares, nightshyamalan, nightstand, ninja, noble, noir, non, normal, norman, north, northern, notorious, novel, novelist, nuclear, nuclearmissile, nudity, number, numbers, numerous, nun, nurse, nypd, object, obsessed, obsession, obsessive, obstacles, obtain, occult, occupied, occurrences, occurs, ocean, odd, oddball, odds, odyssey, offer, offered, offers, office, officer, officers, official, ohio, oil, old, older, oliver, oliverplatt, oliverstone, oliviawilde, oliviawilliams, olympic, olympicgames, ones, online, onofrio, ontherun, open, opening, opens, opera, operation, operative, opportunity, opposing, opposite, orcs, order, ordered, orders, ordinary, oregon, organization, organized, organizedcrime, original, origins, orlandobloom, orleans, orphan, orphanage, orphaned, oscar, oscaraward, otherworldly, outback, outbreak, outcast, outerspace, outlaw, outrageous, outside, overcome, overrun, owenwilson, owl, owned, owner, owners, oxford, oz, paced, pacific, pack, package, packed, pact, pageant, paid, pain, painful, painter, painting, pair, pal, palace, pals, pam, pan, panic, paradise, parallel, parallelworld, paranoia, paranoid, paranormal, parent, parents, parentskidsrelationship, paris, park, parker, parody, parole, particularly, parties, partner, partners, partnership, parts, party, partying, pass, passed, passenger, passengers, passes, passing, passion, passionate, past, pastor, path, paths, patient, patients, patriarch, patriciaarquette, patriciaclarkson, patrick, patrickstewart, patrickwilson, paul, paulapatton, paulbettany, paulgiamatti, paulnewman, paulrudd, paulw, paulwalker, paulweitz, pay, pays, peace, peaceful, peasant, penguin, penguins, pennsylvania, penélopecruz, people, perfect, perform, performance, performances, performer, performing, perilous, period, perioddrama, perry, person, personal, personality, peru, pet, pete, peter, peterberg, peterfarrelly, peterjackson, petersarsgaard, petty, phil, philadelphia, philippe, philipseymourhoffman, phillipnoyce, philosophy, phone, photo, photographer, photography, physical, pianist, piano, pick, picks, picture, pictures, piece, pieces, piercebrosnan, pierre, pig, pilot, pilots, pimp, piperperabo, pirate, pistol, pits, place, placed, places, plague, plagued, plan, plane, planet, planned, plannedmurder, planning, plans, plant, plantation, play, playboy, played, player, players, playing, plays, playwright, pleasure, plenty, plot, plots, plunged, plus, po, poet, poetry, point, poison, poker, police, policebrutality, policechase, policeman, policeofficer, policeoperation, political, politician, politics, pool, poor, pop, popstar, popular, popularity, population, porn, pornography, port, portal, porter, portrait, posing, position, possessed, possesses, possession, possibility, possible, post, posttraumaticstressdisorder, pot, potential, potter, poverty, power, powered, powerful, poweroutage, powers, prank, prayer, pre, preacher, precious, predator, pregnancy, pregnancyandbirth, pregnant, prehistoric, prejudice, prejudices, premonition, prepare, prepared, prepares, preparing, prequel, presence, present, presents, president, presidential, presidentialelection, press, pressure, prestigious, pretty, prevent, previous, prey, price, pride, priest, prime, prince, princess, principal, prison, prisoner, prisoners, prisonersofwar, private, prize, pro, problem, problems, process, prodigy, produced, producer, product, production, professional, professor, profit, program, project, prom, prominent, promise, promised, promises, promising, promoter, prompting, property, prophecy, prosecution, prostitute, prostitution, protect, protecting, protection, protest, prove, proves, provide, psychiatric, psychiatrist, psychic, psychological, psychologist, psychology, psychopath, psychotic, puberty, public, pull, pulled, pulls, punishment, punk, puppet, puppy, pure, purpose, pursue, pursued, pursues, pursuing, pursuit, push, pushed, pushes, puts, putting, quarantine, queen, queenlatifah, queens, quentintarantino, quest, question, questions, quick, quickly, quiet, quirky, quite, rabbit, race, raceagainsttime, racer, races, rachaelleighcook, rachel, rachelmcadams, rachelweisz, racial, racing, racism, radhamitchell, radio, rag, rage, rageandhate, raid, railroad, rain, raise, raised, raising, ralph, ralphfiennes, rampage, ranch, randyquaid, ranger, rangers, ranking, ransom, rape, rapidly, rapmusic, rapper, rare, rat, ravaged, raw, ray, rayliotta, raymond, raywinstone, reach, reaches, reading, ready, real, reality, realize, realizes, realizing, really, realm, reason, rebecca, rebeccahall, rebel, rebellion, rebellious, rebels, reboot, receive, receives, receiving, recent, recently, reclaim, reclusive, reconcile, reconnect, record, recording, records, recover, recovering, recruit, recruited, recruits, red, redemption, reesewitherspoon, refuge, refuses, regain, regime, reginaking, reign, reilly, relationship, relationshipproblems, relationships, relatives, release, released, relentless, religion, religionandsupernatural, religious, relocated, reluctant, reluctantly, rely, remain, remaining, remains, remake, remember, remote, renegade, renerusso, rennyharlin, renowned, rent, renéezellweger, repayment, replace, report, reporter, repressed, republic, reputation, rescue, rescued, rescues, rescuing, research, researcher, resident, residents, resistance, resolve, resort, resources, respective, response, responsibility, responsible, rest, restaurant, restore, result, results, resurrection, retelling, retired, retirement, retribution, retrieve, return, returned, returning, returns, reunion, reunite, reunited, reunites, reveal, revealed, revealing, reveals, revelation, revenge, revolution, revolutionary, revolves, reward, rich, richard, richarddonner, richarddreyfuss, richardgere, richardharris, richardlinklater, rick, rid, riddle, ride, riding, ridleyscott, rifle, right, rightandjustice, rights, riley, ring, riot, ripley, rise, rises, rising, risk, risks, rival, rivalry, rivals, river, road, roadmovie, roadtrip, rob, robber, robbers, robbery, robcohen, robert, robertcarlyle, robertdeniro, robertdowneyjr, robertduvall, robertenglund, robertredford, robertrodriguez, robertzemeckis, robin, robinson, robinwilliams, robinwright, robot, robots, robreiner, rock, rockandroll, rocket, rockstar, rocky, roger, rogue, rolandemmerich, role, roll, roman, romance, romantic, romanticcomedy, rome, romeo, romero, ron, ronhoward, ronnie, ronperlman, roof, rookie, room, roommate, roots, rosamundpike, rosariodawson, rose, rosebyrne, ross, rough, round, routine, row, roy, royal, royalty, ruby, rufussewell, rugrats, rule, ruled, rules, run, runaway, runner, running, runs, rupertgrint, rural, ruralsetting, rush, russell, russellcrowe, russia, russian, ruth, ruthless, ryan, ryangosling, ryanphillippe, ryanreynolds, sabotage, sacrifice, sadism, sadistic, sadness, safe, safety, saga, said, sailing, sailor, sale, salesman, sally, salmahayek, sam, samantha, samanthamorton, samelliott, samneill, samraimi, samrockwell, samshepard, samuel, samuell, samurai, san, sandrabullock, sandy, sanfrancisco, sanity, santa, santaclaus, sara, sarah, sarahjessicaparker, sarahmichellegellar, sarapaxton, satan, satellite, satire, savage, save, saved, saves, saving, savingtheworld, say, sbook, scam, scandal, scared, scarlettjohansson, scary, scene, scenes, scheme, scheming, schizophrenia, scholarship, school, schoolteacher, sci, science, sciencefiction, scientific, scientist, scientists, score, scotland, scott, scottglenn, scottish, scottspeedman, scout, screaming, screen, screenwriter, scubadiving, sdailylife, sea, seal, sean, seanbean, seanconnery, seannwilliamscott, seanpenn, search, searches, searching, seas, seaside, season, seasoned, seattle, sebastian, second, secret, secretagent, secretary, secretidentity, secretintelligenceservice, secretlove, secretly, secretmission, secretorganization, secrets, secretservice, secretsociety, section, secure, security, securityguard, seduction, seductive, seeing, seek, seeking, seeks, seemingly, seen, sees, self, selfsacrifice, sell, selling, selmablair, semi, senator, send, sending, sends, senior, seniors, sense, sent, sentence, sentenced, seo, separate, separated, sequel, sergeant, serial, serialkiller, series, seriesofmurders, seriously, servant, serve, serves, service, serving, set, seth, sethgreen, sethrogen, sets, setting, settle, seve, seven, severe, severely, sewer, sex, sexual, sexualabuse, sexuality, sexually, sexualobsession, sexy, shadow, shady, shake, shaken, shakespeare, shane, shannynsossamon, shape, share, shared, shares, sharing, shark, sharkattack, sharks, sharonstone, sharp, shattered, shaw, shawnlevy, shelter, sheriff, shialabeouf, ship, shipwreck, shocked, shocking, shoes, shooting, shootout, shop, short, shot, shotgun, showdown, shower, showing, shows, shrek, shut, shy, shyness, siblings, sick, sidekick, sides, sidney, sight, sights, sign, signs, sigourneyweaver, silent, silver, similar, simon, simonpegg, simonwest, simple, simply, simpson, sin, sing, singer, singers, singing, single, singlemother, singleparent, sinister, sir, sissyspacek, sister, sisters, sistersisterrelationship, site, sittingonatoilet, situation, situations, size, skateboarding, skeleton, skeptical, skilled, skills, skull, sky, skyscraper, slacker, slasher, slaughter, slave, slavery, slaves, sleazy, sleep, sleeping, sleepy, slife, slowly, slum, small, smalltown, smart, smith, smitten, smoking, smuggling, snake, sniper, snow, snowstorm, soccer, social, socially, society, sociopath, sofia, solar, sold, soldier, soldiers, sole, solomon, solve, somebody, somewhat, son, song, songs, songwriter, sons, soon, sophie, sorcerer, sorcery, sorority, sort, soul, souls, soundtrack, source, south, southafrica, southern, southernusa, soviet, space, spacecraft, spacemarine, spacemission, spaceopera, spaceship, spacetravel, spain, spanish, spanning, sparks, speak, speaking, special, specialist, species, spectacular, speech, speed, spell, spend, spending, spends, spent, spider, spikelee, spiral, spirit, spirited, spirits, spoof, sport, sports, spot, spotlight, spread, spring, spy, squad, st, stadium, staff, stage, stages, stake, stakes, stalked, stalker, stalking, stan, stand, standing, stands, stanleytucci, star, stardom, stark, starring, stars, start, started, starting, starts, state, states, station, status, stay, steal, stealing, steampunk, steel, stellanskarsgård, step, stepfather, stephen, stephendorff, stephenfrears, stephenherek, stephenrea, stepmother, steps, steve, stevebuscemi, stevecarell, stevemartin, steven, stevens, stevenseagal, stevensoderbergh, stevenspielberg, stevezahn, stewart, stock, stockbroker, stolen, stone, stoneage, stoner, stones, stop, stopmotion, stopped, stopping, store, stories, storm, story, straight, stranded, strange, stranger, strangers, strategy, street, streetgang, streets, strength, stress, strict, strike, strikes, strip, stripclub, stripper, strong, struggle, struggles, struggling, stuart, stuck, student, students, studies, studio, study, stumble, stumbles, stunning, stunts, style, sub, submarine, suburban, suburbia, subway, succeed, succeeds, success, successful, successfully, successor, sudden, suddenly, suffering, suffers, suicidal, suicide, suicideattempt, suit, suitcase, suitor, sullivan, summer, sun, sunglasses, super, superhero, superheroes, superhuman, superhumanstrength, superman, supermarket, supernatural, supernaturalpowers, superpowers, superstar, supervillain, supply, support, supposed, suppressedpast, sure, surface, surfer, surgeon, surgery, surprise, surprising, surreal, surrealism, surrounding, surveillance, survival, survive, survived, survives, surviving, survivor, survivors, susan, susansarandon, suspect, suspected, suspecting, suspects, suspense, suspicion, suspicions, suspicious, sweet, sweetheart, swimmingpool, sword, swordandsorcery, swordfight, swordplay, sylvesterstallone, table, tag, tail, taken, takes, taking, tale, talent, talented, tales, talk, talking, talkinganimal, talks, tall, tank, tape, target, targets, task, tasked, taste, taxi, taxidriver, tayediggs, taylor, teach, teacher, teachers, teaches, teaching, team, teams, tear, tears, tech, technology, ted, teen, teenage, teenagecrush, teenagegirl, teenager, teenagers, teencomedy, teenmovie, teens, telekinesis, telepathy, television, tell, telling, tells, temple, tennessee, tense, tension, term, terminal, terminalillness, terms, terrencehoward, terrible, terrier, terrified, terrifying, territory, terror, terrorism, terrorist, terrorists, terrorize, terry, terrygilliam, tess, test, tested, tests, texas, thailand, thandienewton, thanks, thanksgiving, theater, theatremilieu, theft, therapist, therapy, thief, thieves, thing, things, think, thinking, thinks, thirty, thomas, thomashadenchurch, thomasjane, thompson, thought, thoughts, thousand, thousands, threat, threaten, threatened, threatening, threatens, threats, thrill, thriller, thrilling, throne, throw, thrown, thrust, thugs, thwart, ticket, ties, tiger, tildaswinton, tim, timallen, timburton, time, timeless, times, timetravel, timothyolyphant, timrobbins, timroth, tiny, title, tobeymaguire, today, todd, tokyo, told, tom, tomcruise, tomhanks, tomhardy, tommy, tommyleejones, tomwilkinson, tonicollette, tony, tonyscott, tonyshalhoub, took, tormented, torn, tornado, toronto, torture, tortured, total, totally, touch, touches, touching, tough, toughest, tour, tourist, tournament, town, toxic, toy, toycomestolife, toys, track, tracking, tracks, tracy, trade, tradition, traditional, traffic, trafficking, tragedy, tragic, trail, train, trained, trainer, training, traitor, transfer, transform, transformation, transformed, transforming, transforms, transported, transporter, trap, trapped, traps, trauma, traumatic, travel, traveling, travels, treacherous, treasure, treasurehunt, treatment, tree, trek, trial, trials, triangle, tribe, tried, tries, trio, trip, troops, tropical, trouble, troubled, troy, truck, trucker, true, truly, trust, truth, try, trying, tsunami, tunnel, turbulent, turmoil, turn, turned, turner, turning, turns, turtle, turtles, tv, tvmovie, tvshow, tvstation, twin, twinbrother, twins, twist, twisted, tycoon, tyler, tylerperry, type, typical, tyrannical, téaleoni, ufo, ugly, ultimate, ultimately, ultra, umathurman, unable, unaware, uncle, unconventional, uncover, uncovers, undead, undercover, undercoveragent, undercovercop, underdog, underground, understand, underwater, underworld, unemployed, unemployment, unexpected, unexpectedly, unfold, unforgettable, unfortunately, unimaginable, union, unique, unit, unite, united, universe, university, unknown, unleash, unleashed, unleashing, unlikely, unlock, unorthodox, unprecedented, unravel, unsimulatedsex, unsociability, unstable, unstoppable, unsuspecting, unusual, unwitting, unwittingly, upcoming, upper, upperclass, uprising, ups, upset, upside, uptight, urban, usa, usapresident, use, used, uses, using, utah, vacation, valentine, valkilmer, valley, valuable, value, values, vampire, vampires, van, vance, vandalism, vanessa, vanessahudgens, variety, various, vast, vatican, vault, ve, vegas, vegetarian, vengeance, vengeful, venice, verafarmiga, verge, version, verylittledialogue, veteran, vice, vicious, victim, victims, victor, victoria, victory, video, videogame, vienna, vietnam, vietnamveteran, vietnamwar, view, viggomortensen, vigilante, village, villain, villainous, villains, vincent, vincentd, vincevaughn, vindiesel, vineyard, vingrhames, violadavis, violence, violent, virgin, virginia, virginiamadsen, virginity, virtualreality, virus, vision, visions, visit, visited, visits, vivicaa, voice, volatile, volcano, volunteers, von, voodoo, vow, vows, voyage, wade, wait, waiting, waitress, wake, wakes, walk, walker, walking, walks, wall, wallet, walls, walt, walter, wang, want, wanted, wanting, wants, war, warcrimes, ward, warehouse, warfare, warlock, warondrugs, warren, warrenbeatty, warrior, warriors, wars, washed, washington, washingtond, watch, watches, watching, water, waters, wave, way, ways, wealth, wealthy, weapon, weapons, wearing, weather, web, website, wedding, week, weekend, weeks, welcome, went, werewolf, wesbentley, wescraven, wesley, wesleysnipes, west, western, whale, wheelchair, whip, white, whitehouse, whoopigoldberg, wicked, wide, widow, widowed, widower, wife, wifehusbandrelationship, wild, wilderness, wildly, willemdafoe, willferrell, william, williamh, williamhurt, williams, williamshatner, willing, willpatton, willsmith, wilson, win, wind, window, winds, wine, wing, winner, winning, winonaryder, wins, winter, wise, wish, wishes, witch, witches, witness, witnesses, wits, wizard, wolf, woman, womandirector, womanizer, womanrelation, women, won, wonder, wonders, woods, woody, woodyallen, woodyharrelson, word, words, work, workaholic, worked, worker, workers, working, works, world, worlds, worldwari, worldwarii, worldwide, worse, worst, worth, wounded, wreak, wrestling, wretch, wright, write, writer, writes, writing, written, wrong, wwii, wyoming, xenophobia, yacht, yakuza, yard, year, years, yellow, york, young, youngadult, younger, youngest, youth, yuppie, zacefron, zachgalifianakis, zacksnyder, zebra, zeus, zion, zoe, zoesaldana, zombie, zombieapocalypse, zombies, zone, zoo, zooeydeschanel, "
     ]
    }
   ],
   "execution_count": 20
  },
  {
   "cell_type": "code",
   "metadata": {
    "ExecuteTime": {
     "end_time": "2025-06-19T17:10:41.303624Z",
     "start_time": "2025-06-19T17:10:41.290887Z"
    }
   },
   "source": [
    "import nltk\n",
    "from nltk.stem.porter import PorterStemmer  \n",
    "\n",
    "ps = PorterStemmer()\n",
    "\n",
    "def stem(text):\n",
    "    L = []\n",
    "    for i in text.split():\n",
    "        L.append(ps.stem(i))\n",
    "    return \" \".join(L)"
   ],
   "outputs": [],
   "execution_count": 21
  },
  {
   "cell_type": "code",
   "metadata": {
    "ExecuteTime": {
     "end_time": "2025-06-19T17:10:49.590477Z",
     "start_time": "2025-06-19T17:10:41.409252Z"
    }
   },
   "source": [
    "new_df['tags'].apply(stem)"
   ],
   "outputs": [
    {
     "data": {
      "text/plain": [
       "0       in the 22nd century, a parapleg marin is dispa...\n",
       "1       captain barbossa, long believ to be dead, ha c...\n",
       "2       a cryptic messag from bond’ past send him on a...\n",
       "3       follow the death of district attorney harvey d...\n",
       "4       john carter is a war-weary, former militari ca...\n",
       "                              ...                        \n",
       "4804    el mariachi just want to play hi guitar and ca...\n",
       "4805    a newlyw couple' honeymoon is upend by the arr...\n",
       "4806    \"signed, sealed, delivered\" introduc a dedic q...\n",
       "4807    when ambiti new york attorney sam is sent to s...\n",
       "4808    ever sinc the second grade when he first saw h...\n",
       "Name: tags, Length: 4809, dtype: object"
      ]
     },
     "execution_count": 22,
     "metadata": {},
     "output_type": "execute_result"
    }
   ],
   "execution_count": 22
  },
  {
   "cell_type": "code",
   "metadata": {
    "jupyter": {
     "is_executing": true
    },
    "ExecuteTime": {
     "start_time": "2025-06-19T17:10:49.771365Z"
    }
   },
   "source": [
    "from sklearn.metrics.pairwise import cosine_similarity\n",
    "\n",
    "similarity = cosine_similarity(vector)\n",
    "similarity[0][0]"
   ],
   "outputs": [],
   "execution_count": null
  },
  {
   "cell_type": "code",
   "metadata": {},
   "source": [
    "def recommend(movie):\n",
    "    # Get index of the movie by title\n",
    "    movie_index = new_df[new_df['title'] == movie].index[0]\n",
    "    \n",
    "    # Get similarity scores and sort them\n",
    "    distances = list(enumerate(similarity[movie_index]))\n",
    "    distances = sorted(distances, reverse=True, key=lambda x: x[1])\n",
    "    print(type(distances))\n",
    "\n",
    "    for i in distances[1:6]:\n",
    "        print(new_df.iloc[i[0]]['title'])\n"
   ],
   "outputs": [],
   "execution_count": null
  },
  {
   "cell_type": "code",
   "metadata": {},
   "source": [
    "recommend('Gandhi')"
   ],
   "outputs": [],
   "execution_count": null
  },
  {
   "cell_type": "code",
   "metadata": {},
   "source": [
    "import pickle\n",
    "pickle.dump(new_df,open('movie_list.pkl','wb'))\n",
    "pickle.dump(similarity,open('similarity.pkl','wb'))"
   ],
   "outputs": [],
   "execution_count": null
  }
 ],
 "metadata": {
  "kernelspec": {
   "display_name": "Python 3",
   "language": "python",
   "name": "python3"
  },
  "language_info": {
   "codemirror_mode": {
    "name": "ipython",
    "version": 3
   },
   "file_extension": ".py",
   "mimetype": "text/x-python",
   "name": "python",
   "nbconvert_exporter": "python",
   "pygments_lexer": "ipython3",
   "version": "3.13.2"
  }
 },
 "nbformat": 4,
 "nbformat_minor": 2
}
